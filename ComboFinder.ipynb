{
  "nbformat": 4,
  "nbformat_minor": 0,
  "metadata": {
    "colab": {
      "provenance": [],
      "authorship_tag": "ABX9TyPcsU9bL0QPGUVdAfdvAduY",
      "include_colab_link": true
    },
    "kernelspec": {
      "name": "python3",
      "display_name": "Python 3"
    },
    "language_info": {
      "name": "python"
    }
  },
  "cells": [
    {
      "cell_type": "markdown",
      "metadata": {
        "id": "view-in-github",
        "colab_type": "text"
      },
      "source": [
        "<a href=\"https://colab.research.google.com/github/Arshnoor7/Mini-Project-ComboFinder/blob/main/ComboFinder.ipynb\" target=\"_parent\"><img src=\"https://colab.research.google.com/assets/colab-badge.svg\" alt=\"Open In Colab\"/></a>"
      ]
    },
    {
      "cell_type": "markdown",
      "source": [
        "# **Problem Statement: ComboFinder**"
      ],
      "metadata": {
        "id": "qI5h-2SF-mFn"
      }
    },
    {
      "cell_type": "markdown",
      "source": [
        "Find all the list of products whose sum-of-price is between 490 and 510.\n",
        "\n",
        "List={'p1':75, 'p2':45, 'p3':74, 'p4':54, 'p5':46, 'p6':87, 'p7':56,'p8':47, 'p9':85, 'p10':96}"
      ],
      "metadata": {
        "id": "zNqvHE-XCL7H"
      }
    },
    {
      "cell_type": "code",
      "execution_count": 19,
      "metadata": {
        "colab": {
          "base_uri": "https://localhost:8080/"
        },
        "id": "Rmr8JiJn-NoV",
        "outputId": "c33c50e2-a5a8-4a92-f132-001c923c25cc"
      },
      "outputs": [
        {
          "output_type": "stream",
          "name": "stdout",
          "text": [
            "('p10', 'p2', 'p3', 'p6', 'p7', 'p8', 'p9')\n",
            "('p1', 'p10', 'p2', 'p3', 'p5', 'p6', 'p9')\n",
            "('p1', 'p10', 'p4', 'p5', 'p6', 'p8', 'p9')\n",
            "('p10', 'p3', 'p4', 'p6', 'p7', 'p8', 'p9')\n",
            "('p2', 'p3', 'p4', 'p5', 'p6', 'p7', 'p8', 'p9')\n",
            "('p1', 'p10', 'p2', 'p3', 'p4', 'p5', 'p7', 'p8')\n",
            "('p1', 'p2', 'p4', 'p5', 'p6', 'p7', 'p8', 'p9')\n",
            "('p1', 'p10', 'p3', 'p5', 'p6', 'p8', 'p9')\n",
            "('p1', 'p10', 'p4', 'p6', 'p7', 'p8', 'p9')\n",
            "('p1', 'p10', 'p4', 'p5', 'p6', 'p7', 'p9')\n",
            "('p10', 'p2', 'p3', 'p4', 'p5', 'p7', 'p8', 'p9')\n",
            "('p1', 'p10', 'p2', 'p4', 'p6', 'p7', 'p9')\n",
            "('p10', 'p2', 'p3', 'p4', 'p5', 'p6', 'p7', 'p8')\n",
            "('p1', 'p10', 'p5', 'p6', 'p7', 'p8', 'p9')\n",
            "('p10', 'p3', 'p5', 'p6', 'p7', 'p8', 'p9')\n",
            "('p1', 'p10', 'p2', 'p3', 'p6', 'p8', 'p9')\n",
            "('p10', 'p2', 'p3', 'p4', 'p6', 'p7', 'p9')\n",
            "('p10', 'p3', 'p4', 'p5', 'p6', 'p7', 'p9')\n",
            "('p1', 'p10', 'p2', 'p4', 'p5', 'p7', 'p8', 'p9')\n",
            "('p1', 'p10', 'p2', 'p6', 'p7', 'p8', 'p9')\n",
            "('p1', 'p10', 'p2', 'p5', 'p6', 'p7', 'p9')\n",
            "('p1', 'p10', 'p2', 'p4', 'p5', 'p6', 'p7', 'p8')\n",
            "Total Number of Lists whose sum is between 490 and 510 :  22\n"
          ]
        }
      ],
      "source": [
        "import random as r\n",
        "\n",
        "List={'p1':75, 'p2':45, 'p3':74, 'p4':54, 'p5':46, 'p6':87, 'p7':56,'p8':47, 'p9':85, 'p10':96}\n",
        "upper=510\n",
        "lower=490\n",
        "Output=set()\n",
        "for i in range(5000):\n",
        "  Combo_List=r.sample(list(List.keys()),r.randint(2,len(List)-1))\n",
        "  Combo_List.sort()\n",
        "\n",
        "  Combo_Sum = sum([List[i] for i in Combo_List])\n",
        "  if Combo_Sum>= lower and Combo_Sum<= upper:\n",
        "    Output.add(tuple(Combo_List))\n",
        "    \n",
        "for r in Output:\n",
        "  print(r)\n",
        "\n",
        "print(\"Total Number of Lists whose sum is between 490 and 510 : \" , len(Output))"
      ]
    }
  ]
}